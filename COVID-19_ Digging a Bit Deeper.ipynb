{
 "cells": [
  {
   "cell_type": "markdown",
   "metadata": {},
   "source": [
    "## Introduction (Although it doesn't need any) \n",
    "\n",
    "> <font size=4 color='red'>(The Visualizations are updated every 24 Hours)</font>\n",
    "\n",
    "<img align=\"left\" src=\"https://gcn.com/-/media/GIG/GCN/Redesign/Articles/2020/February/covid19.jpg\"></img>"
   ]
  },
  {
   "cell_type": "markdown",
   "metadata": {},
   "source": [
    "### COVID-19 is wreaking havoc across the globe!!!\n",
    "> #### Well, that's something everyone probably already knows as long as they aren't living under the cave for some reason. \n",
    "#### But is it really China who's the most affected right now? \n",
    "#### Or one of those European countries that are literally on fire at the moment because of the virus? \n",
    "#### How good is the US doing?\n",
    "#### How on Earth did it spread so far? (See for yourself)\n",
    "#### Will a public lockdown work? \n",
    "#### Lessons to learn from China?\n",
    "#### Should we be worried? \n",
    "> #### This notebook provides reason with data to shed some light on all of the above questions. Lets find out."
   ]
  },
  {
   "cell_type": "markdown",
   "metadata": {},
   "source": [
    "## References and Acknowledgements\n",
    "**Data:**\n",
    "* [Novel Coronavirus (COVID-19) Cases, provided by JHU CSSE](https://github.com/CSSEGISandData/COVID-19)\n",
    "\n",
    "* [COVID19 Global Forecasting (Week 1)](https://www.kaggle.com/c/covid19-global-forecasting-week-1)\n",
    "\n",
    "* [Novel Corona Virus 2019 Dataset](https://www.kaggle.com/sudalairajkumar/novel-corona-virus-2019-dataset)\n",
    "\n",
    "* [COVID-19 Complete Dataset (Updated every 24hrs)](https://www.kaggle.com/imdevskp/corona-virus-report)\n",
    "\n",
    "**Notebooks:**\n",
    "* [covid-19-analysis-visualization-comparisons](https://www.kaggle.com/imdevskp/covid-19-analysis-visualization-comparisons)\n",
    "\n",
    "* [Creating a good Analytics Report](https://www.kaggle.com/jpmiller/creating-a-good-analytics-report)\n",
    "\n",
    "**Visual Dashboards:**\n",
    "\n",
    "* [JHU Dashboard Web](https://www.arcgis.com/apps/opsdashboard/index.html#/bda7594740fd40299423467b48e9ecf6)\n",
    "\n",
    "* [JHU Dashbiard Mobile](http://www.arcgis.com/apps/opsdashboard/index.html#/85320e2ea5424dfaaa75ae62e5c06e61)\n",
    "\n",
    "* [Bing Live Dashboard](https://www.bing.com/covid)"
   ]
  },
  {
   "cell_type": "markdown",
   "metadata": {},
   "source": [
    "## Previous Reports:\n",
    "\n",
    "[**21-03-2020**  (Universal Time) --> Notebook Version 18](https://www.kaggle.com/abhinand05/covid-19-digging-a-bit-deeper?scriptVersionId=30665745)\n",
    "\n",
    "[**19-03-2020**  (Universal Time) --> Notebook Version 16](https://www.kaggle.com/abhinand05/covid-19-digging-a-bit-deeper?scriptVersionId=30501389)"
   ]
  },
  {
   "cell_type": "markdown",
   "metadata": {},
   "source": [
    "<font size=5 style=\"color:red\"> Please give an UPVOTE if you like this notebook</font>"
   ]
  },
  {
   "cell_type": "code",
   "execution_count": 1,
   "metadata": {
    "_cell_guid": "b1076dfc-b9ad-4769-8c92-a6c4dae69d19",
    "_kg_hide-input": true,
    "_uuid": "8f2839f25d086af736a60e9eeb907d3b93b6e0e5"
   },
   "outputs": [
    {
     "ename": "FileNotFoundError",
     "evalue": "[WinError 3] The system cannot find the path specified: '..\\\\input\\\\covid19-global-forecasting-week-1'",
     "output_type": "error",
     "traceback": [
      "\u001b[1;31m---------------------------------------------------------------------------\u001b[0m",
      "\u001b[1;31mFileNotFoundError\u001b[0m                         Traceback (most recent call last)",
      "\u001b[1;32m<ipython-input-1-d28e4c796de3>\u001b[0m in \u001b[0;36m<module>\u001b[1;34m\u001b[0m\n\u001b[0;32m     12\u001b[0m \u001b[1;33m\u001b[0m\u001b[0m\n\u001b[0;32m     13\u001b[0m \u001b[1;32mimport\u001b[0m \u001b[0mos\u001b[0m\u001b[1;33m\u001b[0m\u001b[1;33m\u001b[0m\u001b[0m\n\u001b[1;32m---> 14\u001b[1;33m \u001b[0mos\u001b[0m\u001b[1;33m.\u001b[0m\u001b[0mlistdir\u001b[0m\u001b[1;33m(\u001b[0m\u001b[0mdata_dir\u001b[0m\u001b[1;33m)\u001b[0m\u001b[1;33m\u001b[0m\u001b[1;33m\u001b[0m\u001b[0m\n\u001b[0m",
      "\u001b[1;31mFileNotFoundError\u001b[0m: [WinError 3] The system cannot find the path specified: '..\\\\input\\\\covid19-global-forecasting-week-1'"
     ]
    }
   ],
   "source": [
    "import numpy as np\n",
    "import pandas as pd\n",
    "\n",
    "import plotly.graph_objects as go\n",
    "import plotly.express as px\n",
    "import plotly.io as pio\n",
    "pio.templates.default = \"plotly_dark\"\n",
    "from plotly.subplots import make_subplots\n",
    "\n",
    "from pathlib import Path\n",
    "data_dir = Path('../input/covid19-global-forecasting-week-1')\n",
    "\n",
    "import os\n",
    "os.listdir(data_dir)"
   ]
  },
  {
   "cell_type": "markdown",
   "metadata": {},
   "source": [
    "The data for this competition...\n",
    "\n",
    "(Won't be using much of it for Analysis)"
   ]
  },
  {
   "cell_type": "code",
   "execution_count": null,
   "metadata": {
    "_cell_guid": "79c7e3d0-c299-4dcb-8224-4455121ee9b0",
    "_kg_hide-input": true,
    "_uuid": "d629ff2d2480ee46fbb7e2d37f6b5fab8052498a"
   },
   "outputs": [],
   "source": [
    "data = pd.read_csv(data_dir/'train.csv', parse_dates=['Date'])\n",
    "data.head()"
   ]
  },
  {
   "cell_type": "code",
   "execution_count": null,
   "metadata": {
    "_kg_hide-input": true
   },
   "outputs": [],
   "source": [
    "data.info()"
   ]
  },
  {
   "cell_type": "code",
   "execution_count": null,
   "metadata": {
    "_kg_hide-input": true
   },
   "outputs": [],
   "source": [
    "data.rename(columns={'Date': 'date', \n",
    "                     'Id': 'id',\n",
    "                     'Province/State':'state',\n",
    "                     'Country/Region':'country',\n",
    "                     'Lat':'lat',\n",
    "                     'Long': 'long',\n",
    "                     'ConfirmedCases': 'confirmed',\n",
    "                     'Fatalities':'deaths',\n",
    "                    }, inplace=True)\n",
    "data.head()"
   ]
  },
  {
   "cell_type": "markdown",
   "metadata": {},
   "source": [
    "The cleaned data from [COVID-19 Complete Dataset (Updated every 24hrs)](https://www.kaggle.com/imdevskp/corona-virus-report) is used for visualizations."
   ]
  },
  {
   "cell_type": "code",
   "execution_count": null,
   "metadata": {
    "_kg_hide-input": true
   },
   "outputs": [],
   "source": [
    "cleaned_data = pd.read_csv('../input/corona-virus-report/covid_19_clean_complete.csv', parse_dates=['Date'])\n",
    "cleaned_data.head()"
   ]
  },
  {
   "cell_type": "code",
   "execution_count": null,
   "metadata": {
    "_kg_hide-input": true
   },
   "outputs": [],
   "source": [
    "cleaned_data.rename(columns={'ObservationDate': 'date', \n",
    "                     'Province/State':'state',\n",
    "                     'Country/Region':'country',\n",
    "                     'Last Update':'last_updated',\n",
    "                     'Confirmed': 'confirmed',\n",
    "                     'Deaths':'deaths',\n",
    "                     'Recovered':'recovered'\n",
    "                    }, inplace=True)\n",
    "\n",
    "# cases \n",
    "cases = ['confirmed', 'deaths', 'recovered', 'active']\n",
    "\n",
    "# Active Case = confirmed - deaths - recovered\n",
    "cleaned_data['active'] = cleaned_data['confirmed'] - cleaned_data['deaths'] - cleaned_data['recovered']\n",
    "\n",
    "# replacing Mainland china with just China\n",
    "cleaned_data['country'] = cleaned_data['country'].replace('Mainland China', 'China')\n",
    "\n",
    "# filling missing values \n",
    "cleaned_data[['state']] = cleaned_data[['state']].fillna('')\n",
    "cleaned_data[cases] = cleaned_data[cases].fillna(0)\n",
    "cleaned_data.rename(columns={'Date':'date'}, inplace=True)\n",
    "\n",
    "data = cleaned_data"
   ]
  },
  {
   "cell_type": "code",
   "execution_count": null,
   "metadata": {
    "_kg_hide-input": true
   },
   "outputs": [],
   "source": [
    "print(\"External Data\")\n",
    "print(f\"Earliest Entry: {data['date'].min()}\")\n",
    "print(f\"Last Entry:     {data['date'].max()}\")\n",
    "print(f\"Total Days:     {data['date'].max() - data['date'].min()}\")"
   ]
  },
  {
   "cell_type": "markdown",
   "metadata": {},
   "source": [
    "## Data Analysis - COVID-19"
   ]
  },
  {
   "cell_type": "markdown",
   "metadata": {},
   "source": [
    "## 1. Confirmed Cases Over Time"
   ]
  },
  {
   "cell_type": "markdown",
   "metadata": {},
   "source": [
    "Now lets take a look at the confirmed cases across the globe."
   ]
  },
  {
   "cell_type": "code",
   "execution_count": null,
   "metadata": {},
   "outputs": [],
   "source": [
    "grouped = data.groupby('date')['date', 'confirmed', 'deaths'].sum().reset_index()\n",
    "\n",
    "fig = px.line(grouped, x=\"date\", y=\"confirmed\", \n",
    "              title=\"Worldwide Confirmed Cases Over Time\")\n",
    "fig.show()\n",
    "\n",
    "fig = px.line(grouped, x=\"date\", y=\"confirmed\", \n",
    "              title=\"Worldwide Confirmed Cases (Logarithmic Scale) Over Time\", \n",
    "              log_y=True)\n",
    "fig.show()"
   ]
  },
  {
   "cell_type": "markdown",
   "metadata": {},
   "source": [
    "1. Looks like the exponential growth of the pandemic is still in it's peaks and that is not good at all.\n",
    "\n",
    "2. The slope of the line at the latest time frame is very high making matters even worse.\n",
    "\n",
    "3. Looking at the same graph in Logarithmic scale reveals the matter is very very serious all over the World maybe because the disease has just started to grow outside of China.\n",
    "\n",
    "4. At the current rate anything may happen. Maybe even a million cases in just a weeks time. Who knows."
   ]
  },
  {
   "cell_type": "code",
   "execution_count": null,
   "metadata": {
    "_kg_hide-input": true
   },
   "outputs": [],
   "source": [
    "grouped_china = data[data['country'] == \"China\"].reset_index()\n",
    "grouped_china_date = grouped_china.groupby('date')['date', 'confirmed', 'deaths'].sum().reset_index()\n",
    "\n",
    "grouped_italy = data[data['country'] == \"Italy\"].reset_index()\n",
    "grouped_italy_date = grouped_italy.groupby('date')['date', 'confirmed', 'deaths'].sum().reset_index()\n",
    "\n",
    "grouped_us = data[data['country'] == \"US\"].reset_index()\n",
    "grouped_us_date = grouped_us.groupby('date')['date', 'confirmed', 'deaths'].sum().reset_index()\n",
    "\n",
    "grouped_rest = data[~data['country'].isin(['China', 'Italy', 'US'])].reset_index()\n",
    "grouped_rest_date = grouped_rest.groupby('date')['date', 'confirmed', 'deaths'].sum().reset_index()"
   ]
  },
  {
   "cell_type": "code",
   "execution_count": null,
   "metadata": {
    "_kg_hide-input": true
   },
   "outputs": [],
   "source": [
    "plot_titles = ['China', 'Italy', 'USA', 'Rest of the World']\n",
    "\n",
    "fig = px.line(grouped_china_date, x=\"date\", y=\"confirmed\", \n",
    "              title=f\"Confirmed Cases in {plot_titles[0].upper()} Over Time\", \n",
    "              color_discrete_sequence=['#F61067'],\n",
    "              height=500\n",
    "             )\n",
    "fig.show()\n",
    "\n",
    "fig = px.line(grouped_italy_date, x=\"date\", y=\"confirmed\", \n",
    "              title=f\"Confirmed Cases in {plot_titles[1].upper()} Over Time\", \n",
    "              color_discrete_sequence=['#91C4F2'],\n",
    "              height=500\n",
    "             )\n",
    "fig.show()\n",
    "\n",
    "fig = px.line(grouped_us_date, x=\"date\", y=\"confirmed\", \n",
    "              title=f\"Confirmed Cases in {plot_titles[2].upper()} Over Time\", \n",
    "              color_discrete_sequence=['#6F2DBD'],\n",
    "              height=500\n",
    "             )\n",
    "fig.show()\n",
    "\n",
    "fig = px.line(grouped_rest_date, x=\"date\", y=\"confirmed\", \n",
    "              title=f\"Confirmed Cases in {plot_titles[3].upper()} Over Time\", \n",
    "              color_discrete_sequence=['#FFDF64'],\n",
    "              height=500\n",
    "             )\n",
    "fig.show()"
   ]
  },
  {
   "cell_type": "markdown",
   "metadata": {},
   "source": [
    "1. Looking at the plot of China's cases it is pretty clear that the disease has not been at dire levels since the turn of March. WHICH IS REALLY GOOD NEWS FOR CHINA.\n",
    "\n",
    "2. Well not so much for Italy by the looks of it. They are getting affected very badly. \n",
    "\n",
    "3. Italy's steep rise is concerning and the new few days are really crucial.\n",
    "\n",
    "4. The clear spike in USA's graph might be the result of more cases getting testing for the first time.\n",
    "\n",
    "5. USA's situation is also very concerning. That increase in the past week or so is really significant. \n",
    "\n",
    "6. The rest of the World combined is also seeing a steady increase in confirmed cases over time. "
   ]
  },
  {
   "cell_type": "code",
   "execution_count": null,
   "metadata": {
    "_kg_hide-input": true
   },
   "outputs": [],
   "source": [
    "data['state'] = data['state'].fillna('')\n",
    "temp = data[[col for col in data.columns if col != 'state']]\n",
    "\n",
    "latest = temp[temp['date'] == max(temp['date'])].reset_index()\n",
    "latest_grouped = latest.groupby('country')['confirmed', 'deaths'].sum().reset_index()"
   ]
  },
  {
   "cell_type": "code",
   "execution_count": null,
   "metadata": {},
   "outputs": [],
   "source": [
    "fig = px.choropleth(latest_grouped, locations=\"country\", \n",
    "                    locationmode='country names', color=\"confirmed\", \n",
    "                    hover_name=\"country\", range_color=[1,5000], \n",
    "                    color_continuous_scale=\"peach\", \n",
    "                    title='Countries with Confirmed Cases')\n",
    "# fig.update(layout_coloraxis_showscale=False)\n",
    "fig.show()"
   ]
  },
  {
   "cell_type": "markdown",
   "metadata": {},
   "source": [
    "> #### Feel free to zoom into the interactive maps.\n",
    "\n",
    "The above graph is just an illustration of how the virus is spread out across the globe.\n",
    "\n",
    "**I think, looking at Europe, it's worth having a closer look.**"
   ]
  },
  {
   "cell_type": "code",
   "execution_count": null,
   "metadata": {
    "_kg_hide-input": true
   },
   "outputs": [],
   "source": [
    "europe = list(['Austria','Belgium','Bulgaria','Croatia','Cyprus','Czechia','Denmark','Estonia','Finland','France','Germany','Greece','Hungary','Ireland',\n",
    "               'Italy', 'Latvia','Luxembourg','Lithuania','Malta','Norway','Netherlands','Poland','Portugal','Romania','Slovakia','Slovenia',\n",
    "               'Spain', 'Sweden', 'United Kingdom', 'Iceland', 'Russia', 'Switzerland', 'Serbia', 'Ukraine', 'Belarus',\n",
    "               'Albania', 'Bosnia and Herzegovina', 'Kosovo', 'Moldova', 'Montenegro', 'North Macedonia'])\n",
    "\n",
    "europe_grouped_latest = latest_grouped[latest_grouped['country'].isin(europe)]"
   ]
  },
  {
   "cell_type": "code",
   "execution_count": null,
   "metadata": {},
   "outputs": [],
   "source": [
    "fig = px.choropleth(europe_grouped_latest, locations=\"country\", \n",
    "                    locationmode='country names', color=\"confirmed\", \n",
    "                    hover_name=\"country\", range_color=[1,2000], \n",
    "                    color_continuous_scale='portland', \n",
    "                    title='European Countries with Confirmed Cases', scope='europe', height=800)\n",
    "# fig.update(layout_coloraxis_showscale=False)\n",
    "fig.show()"
   ]
  },
  {
   "cell_type": "markdown",
   "metadata": {},
   "source": [
    "**Looks like the COVID-19 has the strongest of holds in Western Europe right now.**\n",
    "\n",
    "Cases in Most European countries have rapidly increased. "
   ]
  },
  {
   "cell_type": "code",
   "execution_count": null,
   "metadata": {},
   "outputs": [],
   "source": [
    "fig = px.bar(latest_grouped.sort_values('confirmed', ascending=False)[:20][::-1], \n",
    "             x='confirmed', y='country',\n",
    "             title='Confirmed Cases Worldwide', text='confirmed', height=1000, orientation='h')\n",
    "fig.show()"
   ]
  },
  {
   "cell_type": "markdown",
   "metadata": {},
   "source": [
    "Looking at the numbers it's worth noting that Europe is more affected than China and it's neighbors. \n",
    "\n",
    "Iran being the most affected Asian country other than China"
   ]
  },
  {
   "cell_type": "code",
   "execution_count": null,
   "metadata": {},
   "outputs": [],
   "source": [
    "fig = px.bar(europe_grouped_latest.sort_values('confirmed', ascending=False)[:10][::-1], \n",
    "             x='confirmed', y='country', color_discrete_sequence=['#84DCC6'],\n",
    "             title='Confirmed Cases in Europe', text='confirmed', orientation='h')\n",
    "fig.show()"
   ]
  },
  {
   "cell_type": "markdown",
   "metadata": {},
   "source": [
    "Once again it's Western Europe dominating the number of confirmed cases with Italy more than double over the second most affected Spain and Germany not far off behind with Frace cathing up too."
   ]
  },
  {
   "cell_type": "code",
   "execution_count": null,
   "metadata": {},
   "outputs": [],
   "source": [
    "usa = cleaned_data[cleaned_data['country'] == \"US\"]\n",
    "usa_latest = usa[usa['date'] == max(usa['date'])]\n",
    "usa_latest = usa_latest.groupby('state')['confirmed', 'deaths'].max().reset_index()\n",
    "\n",
    "fig = px.bar(usa_latest.sort_values('confirmed', ascending=False)[:10][::-1], \n",
    "             x='confirmed', y='state', color_discrete_sequence=['#D63230'],\n",
    "             title='Confirmed Cases in USA', text='confirmed', orientation='h')\n",
    "fig.show()"
   ]
  },
  {
   "cell_type": "markdown",
   "metadata": {},
   "source": [
    "Looking at the American states, New York being the clear and outright most affected state with the numbers being almost 8 times as much as Washington State.\n",
    "\n",
    "Here in India the total confirmed cases are much less than any of these top affected American States which is really concerning considering the fact that India shares a border with China while the US an Ocean apart."
   ]
  },
  {
   "cell_type": "markdown",
   "metadata": {},
   "source": [
    "## 2. Confirmed Deaths Over Time"
   ]
  },
  {
   "cell_type": "code",
   "execution_count": null,
   "metadata": {},
   "outputs": [],
   "source": [
    "fig = px.line(grouped, x=\"date\", y=\"deaths\", title=\"Worldwide Deaths Over Time\",\n",
    "             color_discrete_sequence=['#F42272'])\n",
    "fig.show()\n",
    "\n",
    "fig = px.line(grouped, x=\"date\", y=\"deaths\", title=\"Worldwide Deaths (Logarithmic Scale) Over Time\", \n",
    "              log_y=True, color_discrete_sequence=['#F42272'])\n",
    "fig.show()"
   ]
  },
  {
   "cell_type": "markdown",
   "metadata": {},
   "source": [
    "Global Death tolls have began to rise sharply ever since the turn of March."
   ]
  },
  {
   "cell_type": "code",
   "execution_count": null,
   "metadata": {
    "_kg_hide-input": true
   },
   "outputs": [],
   "source": [
    "plot_titles = ['China', 'Italy', 'USA', 'Rest of the World']\n",
    "\n",
    "fig = px.line(grouped_china_date, x=\"date\", y=\"deaths\", \n",
    "              title=f\"Deaths in {plot_titles[0].upper()} Over Time\", \n",
    "              color_discrete_sequence=['#F61067'],\n",
    "              height=500\n",
    "             )\n",
    "fig.show()\n",
    "\n",
    "fig = px.line(grouped_italy_date, x=\"date\", y=\"deaths\", \n",
    "              title=f\"Deaths in {plot_titles[1].upper()} Over Time\", \n",
    "              color_discrete_sequence=['#91C4F2'],\n",
    "              height=500\n",
    "             )\n",
    "fig.show()\n",
    "\n",
    "fig = px.line(grouped_us_date, x=\"date\", y=\"deaths\", \n",
    "              title=f\"Deaths in {plot_titles[2].upper()} Over Time\", \n",
    "              color_discrete_sequence=['#6F2DBD'],\n",
    "              height=500\n",
    "             )\n",
    "fig.show()\n",
    "\n",
    "fig = px.line(grouped_rest_date, x=\"date\", y=\"deaths\", \n",
    "              title=f\"Deaths in {plot_titles[3].upper()} Over Time\", \n",
    "              color_discrete_sequence=['#FFDF64'],\n",
    "              height=500\n",
    "             )\n",
    "fig.show()"
   ]
  },
  {
   "cell_type": "markdown",
   "metadata": {},
   "source": [
    "But deaths in China somehow seem to be decreased since March which is interesting.\n",
    "\n",
    "Looking at the Deaths elsewhere is a saddening graph in itself. Terrible! \n",
    "\n",
    "Look at the graph of USA it is almost as if the curve is going into a straight like to the skies above. "
   ]
  },
  {
   "cell_type": "code",
   "execution_count": null,
   "metadata": {},
   "outputs": [],
   "source": [
    "fig = px.choropleth(latest_grouped, locations=\"country\", \n",
    "                    locationmode='country names', color=\"deaths\", \n",
    "                    hover_name=\"deaths\", range_color=[1,100], \n",
    "                    color_continuous_scale=\"peach\", \n",
    "                    title='Countries with Reported Deaths')\n",
    "# fig.update(layout_coloraxis_showscale=False)\n",
    "fig.show()"
   ]
  },
  {
   "cell_type": "markdown",
   "metadata": {},
   "source": [
    "The Deaths however seems to come more from cetain parts of the World...China being the most significant of ones without a doubt, Europe and the Americas aren't doing any good I'm afraid.\n",
    "\n",
    "Yet again it always feels like it's good to have a deeper look at Europe."
   ]
  },
  {
   "cell_type": "code",
   "execution_count": null,
   "metadata": {},
   "outputs": [],
   "source": [
    "fig = px.choropleth(europe_grouped_latest, locations=\"country\", \n",
    "                    locationmode='country names', color=\"deaths\", \n",
    "                    hover_name=\"country\", range_color=[1,100], \n",
    "                    color_continuous_scale='portland',\n",
    "                    title='Reported Deaths in EUROPE', scope='europe', height=800)\n",
    "# fig.update(layout_coloraxis_showscale=False)\n",
    "fig.show()"
   ]
  },
  {
   "cell_type": "markdown",
   "metadata": {},
   "source": [
    "Looks like Spain, Italy and France are topping everyone again, this time for a very sad reason with UK close behind.\n",
    "\n",
    "Iceland, Portugal and Ireland seem to be having much fewer deaths in comparision to their surrounding nations."
   ]
  },
  {
   "cell_type": "code",
   "execution_count": null,
   "metadata": {
    "_cell_guid": "",
    "_uuid": ""
   },
   "outputs": [],
   "source": [
    "fig = px.bar(latest_grouped.sort_values('deaths', ascending=False)[:10][::-1], \n",
    "             x='deaths', y='country',\n",
    "             title='Confirmed Deaths Worldwide', text='deaths', orientation='h')\n",
    "fig.show()"
   ]
  },
  {
   "cell_type": "markdown",
   "metadata": {},
   "source": [
    "Italy so far have suffered the most. I remember 2 days back I was saying deaths in Italy has just crossed China's mark but look at that now. Overshadowing China and the rest of the world all by itself. Devastating to say the least!"
   ]
  },
  {
   "cell_type": "code",
   "execution_count": null,
   "metadata": {},
   "outputs": [],
   "source": [
    "fig = px.bar(europe_grouped_latest.sort_values('deaths', ascending=False)[:5][::-1], \n",
    "             x='deaths', y='country', color_discrete_sequence=['#84DCC6'],\n",
    "             title='Deaths in Europe', text='deaths', orientation='h')\n",
    "fig.show()"
   ]
  },
  {
   "cell_type": "code",
   "execution_count": null,
   "metadata": {},
   "outputs": [],
   "source": [
    "fig = px.bar(usa_latest.sort_values('deaths', ascending=False)[:5][::-1], \n",
    "             x='deaths', y='state', color_discrete_sequence=['#D63230'],\n",
    "             title='Deaths in USA', text='deaths', orientation='h')\n",
    "fig.show()"
   ]
  },
  {
   "cell_type": "markdown",
   "metadata": {},
   "source": [
    "Not a good time to be a New Yorkian I guess. Nightmare of a week for them.\n",
    "\n",
    "Alarming signs for the US?"
   ]
  },
  {
   "cell_type": "markdown",
   "metadata": {},
   "source": [
    "## 3. Active Cases Over Time"
   ]
  },
  {
   "cell_type": "markdown",
   "metadata": {},
   "source": [
    "Now lets analyze an important thing - ACTIVE CASES over time. It is the number of people who are affected by the virus excluding the dead and the recovered. This might have a bigger say on what is to come."
   ]
  },
  {
   "cell_type": "code",
   "execution_count": null,
   "metadata": {
    "_kg_hide-input": true
   },
   "outputs": [],
   "source": [
    "cleaned_data.rename(columns={'Date':'date'}, inplace=True)\n",
    "\n",
    "grouped_china = cleaned_data[cleaned_data['country'] == \"China\"].reset_index()\n",
    "grouped_china_date = grouped_china.groupby('date')['date', 'confirmed', 'deaths', 'active', 'recovered'].sum().reset_index()\n",
    "\n",
    "grouped_italy = cleaned_data[cleaned_data['country'] == \"Italy\"].reset_index()\n",
    "grouped_italy_date = grouped_italy.groupby('date')['date', 'confirmed', 'deaths', 'active', 'recovered'].sum().reset_index()\n",
    "\n",
    "grouped_us = cleaned_data[cleaned_data['country'] == \"US\"].reset_index()\n",
    "grouped_us_date = grouped_us.groupby('date')['date', 'confirmed', 'deaths', 'active', 'recovered'].sum().reset_index()\n",
    "\n",
    "grouped_rest = cleaned_data[~cleaned_data['country'].isin(['China', 'Italy', 'US'])].reset_index()\n",
    "grouped_rest_date = grouped_rest.groupby('date')['date', 'confirmed', 'deaths', 'active', 'recovered'].sum().reset_index()"
   ]
  },
  {
   "cell_type": "code",
   "execution_count": null,
   "metadata": {
    "_kg_hide-input": true
   },
   "outputs": [],
   "source": [
    "plot_titles = ['China', 'Italy', 'USA', 'Rest of the World']\n",
    "\n",
    "fig = px.line(grouped_china_date, x=\"date\", y=\"active\", \n",
    "              title=f\"Active Cases in {plot_titles[0].upper()} Over Time\", \n",
    "              color_discrete_sequence=['#F61067'],\n",
    "              height=500\n",
    "             )\n",
    "fig.show()\n",
    "\n",
    "fig = px.line(grouped_italy_date, x=\"date\", y=\"active\", \n",
    "              title=f\"Active Cases in {plot_titles[1].upper()} Over Time\", \n",
    "              color_discrete_sequence=['#91C4F2'],\n",
    "              height=500\n",
    "             )\n",
    "fig.show()\n",
    "\n",
    "fig = px.line(grouped_us_date, x=\"date\", y=\"active\", \n",
    "              title=f\"Active Cases in {plot_titles[2].upper()} Over Time\", \n",
    "              color_discrete_sequence=['#6F2DBD'],\n",
    "              height=500\n",
    "             )\n",
    "fig.show()\n",
    "\n",
    "fig = px.line(grouped_rest_date, x=\"date\", y=\"active\", \n",
    "              title=f\"Active Cases in {plot_titles[3].upper()} Over Time\", \n",
    "              color_discrete_sequence=['#FFDF64'],\n",
    "              height=500\n",
    "             )\n",
    "fig.show()"
   ]
  },
  {
   "cell_type": "markdown",
   "metadata": {},
   "source": [
    "* Active cases in China have plummeted multifold over the past few days making it a much better sign for the country and its people. Something is working out there. Maybe the lockdown and the strict rules implied? Anyway there's a lot to learn from China this time.\n",
    "\n",
    "* Active cases elsewhere have skyrocketed to be frank, which is deeply worrying. Especially USA again sporting an almost straight line graph to the skies. "
   ]
  },
  {
   "cell_type": "code",
   "execution_count": null,
   "metadata": {
    "_kg_hide-input": true
   },
   "outputs": [],
   "source": [
    "cleaned_data['state'] = cleaned_data['state'].fillna('')\n",
    "temp = cleaned_data[[col for col in cleaned_data.columns if col != 'state']]\n",
    "\n",
    "latest = temp[temp['date'] == max(temp['date'])].reset_index()\n",
    "latest_grouped = latest.groupby('country')['confirmed', 'deaths', 'active', 'recovered'].sum().reset_index()"
   ]
  },
  {
   "cell_type": "code",
   "execution_count": null,
   "metadata": {},
   "outputs": [],
   "source": [
    "fig = px.choropleth(latest_grouped, locations=\"country\", \n",
    "                    locationmode='country names', color=\"active\", \n",
    "                    hover_name=\"active\", range_color=[1,1000], \n",
    "                    color_continuous_scale=\"peach\", \n",
    "                    title='Active Cases Worldwide')\n",
    "# fig.update(layout_coloraxis_showscale=False)\n",
    "fig.show()"
   ]
  },
  {
   "cell_type": "markdown",
   "metadata": {},
   "source": [
    "* Don't think China is safe just yet, it still looks to have more active cases than many of the World nations. And it's still a red hot region in terms of the virus.\n",
    "\n",
    "* An interesting find from all these plots is that sub-saharan Africa, parts of Eastern Europe, Russia and India seem to have fewer cases than the rest of the world. \n",
    "\n",
    "* However things might get a lot worse when it hits Africa, it is better to keep it as far away as possible. "
   ]
  },
  {
   "cell_type": "code",
   "execution_count": null,
   "metadata": {
    "_kg_hide-input": true
   },
   "outputs": [],
   "source": [
    "europe = list(['Austria','Belgium','Bulgaria','Croatia','Cyprus','Czechia','Denmark','Estonia','Finland','France','Germany','Greece','Hungary','Ireland',\n",
    "               'Italy', 'Latvia','Luxembourg','Lithuania','Malta','Norway','Netherlands','Poland','Portugal','Romania','Slovakia','Slovenia',\n",
    "               'Spain', 'Sweden', 'United Kingdom', 'Iceland', 'Russia', 'Switzerland', 'Serbia', 'Ukraine', 'Belarus',\n",
    "               'Albania', 'Bosnia and Herzegovina', 'Kosovo', 'Moldova', 'Montenegro', 'North Macedonia'])\n",
    "\n",
    "europe_grouped_latest = latest_grouped[latest_grouped['country'].isin(europe)]"
   ]
  },
  {
   "cell_type": "code",
   "execution_count": null,
   "metadata": {},
   "outputs": [],
   "source": [
    "fig = px.choropleth(europe_grouped_latest, locations=\"country\", \n",
    "                    locationmode='country names', color=\"active\", \n",
    "                    hover_name=\"country\", range_color=[1,2000], \n",
    "                    color_continuous_scale='portland',\n",
    "                    title='Active Cases European Countries', scope='europe', height=800)\n",
    "# fig.update(layout_coloraxis_showscale=False)\n",
    "fig.show()"
   ]
  },
  {
   "cell_type": "markdown",
   "metadata": {},
   "source": [
    "Western Europe again!"
   ]
  },
  {
   "cell_type": "code",
   "execution_count": null,
   "metadata": {},
   "outputs": [],
   "source": [
    "fig = px.bar(latest_grouped.sort_values('active', ascending=False)[:10][::-1], \n",
    "             x='active', y='country',\n",
    "             title='Active Cases Worldwide', text='active', orientation='h')\n",
    "fig.show()"
   ]
  },
  {
   "cell_type": "markdown",
   "metadata": {},
   "source": [
    "* It is very much possible to see things escalate in these few countries here even more with the rise in infected people.\n",
    "\n",
    "* Much of what is to come over the next few days depend on what is going to happen here \n",
    "\n",
    "* Spain, US, France and Germany could possibly be as affected as Italy over the next few days if things don't change."
   ]
  },
  {
   "cell_type": "code",
   "execution_count": null,
   "metadata": {},
   "outputs": [],
   "source": [
    "fig = px.bar(europe_grouped_latest.sort_values('active', ascending=False)[:10][::-1], \n",
    "             x='active', y='country',\n",
    "             title='Active Cases EUROPE', text='active', orientation='h')\n",
    "fig.show()"
   ]
  },
  {
   "cell_type": "code",
   "execution_count": null,
   "metadata": {},
   "outputs": [],
   "source": [
    "usa = cleaned_data[cleaned_data['country'] == \"US\"]\n",
    "usa_latest = usa[usa['date'] == max(usa['date'])]\n",
    "usa_latest = usa_latest.groupby('state')['confirmed', 'deaths', 'active', 'recovered'].max().reset_index()\n",
    "\n",
    "fig = px.bar(usa_latest.sort_values('active', ascending=False)[:10][::-1], \n",
    "             x='active', y='state', color_discrete_sequence=['#D63230'],\n",
    "             title='Active Cases in USA', text='active', orientation='h')\n",
    "fig.show()"
   ]
  },
  {
   "cell_type": "markdown",
   "metadata": {},
   "source": [
    "New York the well known American state has more cases than many countries as a whole which is unbelievable. "
   ]
  },
  {
   "cell_type": "markdown",
   "metadata": {},
   "source": [
    "## 4. Recovered Cases "
   ]
  },
  {
   "cell_type": "code",
   "execution_count": null,
   "metadata": {},
   "outputs": [],
   "source": [
    "fig = px.bar(latest_grouped.sort_values('recovered', ascending=False)[:10][::-1], \n",
    "             x='recovered', y='country',\n",
    "             title='Recovered Cases Worldwide', text='recovered', orientation='h')\n",
    "fig.show()"
   ]
  },
  {
   "cell_type": "markdown",
   "metadata": {},
   "source": [
    "* Wow this graph gives me some home at last, China has recovered a staggering number of patients somehow which might be the reason why they're doing relatively better at the moment.\n",
    "\n",
    "* Even the ships have more recoveries than Japan and Singapore?\n",
    "\n",
    "* Italy must do a lot better to neutralize the situation. In fact they must try to redo a China before its too late. The aging population might be a huge problem but lets hope things can change soon. "
   ]
  },
  {
   "cell_type": "code",
   "execution_count": null,
   "metadata": {},
   "outputs": [],
   "source": [
    "fig = px.bar(europe_grouped_latest.sort_values('recovered', ascending=False)[:10][::-1], \n",
    "             x='recovered', y='country',\n",
    "             title='Recovered Cases in EUROPE', text='recovered', orientation='h', color_discrete_sequence=['cyan'])\n",
    "fig.show()"
   ]
  },
  {
   "cell_type": "markdown",
   "metadata": {},
   "source": [
    "Recoveries in France, UK and Germany got to be a lot better."
   ]
  },
  {
   "cell_type": "markdown",
   "metadata": {},
   "source": [
    "## 5. Comparisions\n",
    "\n",
    "How about comparing the cases to better assess the situation"
   ]
  },
  {
   "cell_type": "code",
   "execution_count": null,
   "metadata": {
    "_kg_hide-input": true
   },
   "outputs": [],
   "source": [
    "temp = cleaned_data.groupby('date')['recovered', 'deaths', 'active'].sum().reset_index()\n",
    "temp = temp.melt(id_vars=\"date\", value_vars=['recovered', 'deaths', 'active'],\n",
    "                 var_name='case', value_name='count')\n",
    "\n",
    "\n",
    "fig = px.line(temp, x=\"date\", y=\"count\", color='case',\n",
    "             title='Cases over time: Line Plot', color_discrete_sequence = ['cyan', 'red', 'orange'])\n",
    "fig.show()\n",
    "\n",
    "\n",
    "fig = px.area(temp, x=\"date\", y=\"count\", color='case',\n",
    "             title='Cases over time: Area Plot', color_discrete_sequence = ['cyan', 'red', 'orange'])\n",
    "fig.show()"
   ]
  },
  {
   "cell_type": "markdown",
   "metadata": {},
   "source": [
    "* Active cases rising up completely all together leaving recoveries way behind and deaths also staring to increase and might see a big rise if the trend continues.\n",
    "\n",
    "* China's recent recovery waves might be the reason for so much from this graph. "
   ]
  },
  {
   "cell_type": "markdown",
   "metadata": {},
   "source": [
    "Taking China out of the equation to see the effects elsewhere."
   ]
  },
  {
   "cell_type": "code",
   "execution_count": null,
   "metadata": {
    "_kg_hide-input": true
   },
   "outputs": [],
   "source": [
    "rest = cleaned_data[cleaned_data['country'] != 'China']\n",
    "rest_grouped = rest.groupby('date')['recovered', 'deaths', 'active'].sum().reset_index()\n",
    "\n",
    "temp = rest_grouped.melt(id_vars=\"date\", value_vars=['recovered', 'deaths', 'active'],\n",
    "                 var_name='case', value_name='count')\n",
    "\n",
    "\n",
    "fig = px.line(temp, x=\"date\", y=\"count\", color='case',\n",
    "             title='Cases - Rest of the World: Line Plot', color_discrete_sequence = ['cyan', 'red', 'orange'])\n",
    "fig.show()\n",
    "\n",
    "\n",
    "fig = px.area(temp, x=\"date\", y=\"count\", color='case',\n",
    "             title='Cases - Rest of the World: Area Plot', color_discrete_sequence = ['cyan', 'red', 'orange'])\n",
    "fig.show()"
   ]
  },
  {
   "cell_type": "markdown",
   "metadata": {},
   "source": [
    "* Active cases skyrocketing!!! This is really bad news. It is almost as if the virus has just started for the rest of the World \n",
    "\n",
    "* Recoveries around the World are rock bottom if we take China out of the equation which is very interesting. What are others doing wrong?"
   ]
  },
  {
   "cell_type": "markdown",
   "metadata": {},
   "source": [
    "## 6. Mortality and Recovery Rates"
   ]
  },
  {
   "cell_type": "markdown",
   "metadata": {},
   "source": [
    "It is worth seeing these stats as well. It might have a story for sure."
   ]
  },
  {
   "cell_type": "code",
   "execution_count": null,
   "metadata": {
    "_kg_hide-input": true
   },
   "outputs": [],
   "source": [
    "cleaned_latest = cleaned_data[cleaned_data['date'] == max(cleaned_data['date'])]\n",
    "flg = cleaned_latest.groupby('country')['confirmed', 'deaths', 'recovered', 'active'].sum().reset_index()\n",
    "\n",
    "flg['mortalityRate'] = round((flg['deaths']/flg['confirmed'])*100, 2)\n",
    "temp = flg[flg['confirmed']>100]\n",
    "temp = temp.sort_values('mortalityRate', ascending=False)\n",
    "\n",
    "fig = px.bar(temp.sort_values(by=\"mortalityRate\", ascending=False)[:10][::-1],\n",
    "             x = 'mortalityRate', y = 'country', \n",
    "             title='Deaths per 100 Confirmed Cases', text='mortalityRate', height=800, orientation='h',\n",
    "             color_discrete_sequence=['darkred']\n",
    "            )\n",
    "fig.show()"
   ]
  },
  {
   "cell_type": "markdown",
   "metadata": {},
   "source": [
    "* San Marino with the most brutal of them all. Almost 13 people for every 100 that get affected die!\n",
    "\n",
    "* Indonesia seems to be very dangerous places to get affected in Asia.\n",
    "\n",
    "* The drop of mortality rates in Phillipes from previous days in encouraging. \n",
    "\n",
    "* Death tolls in Italy have stormed up very high in the past few days. It is really worrying to see Italy suffering so much. \n",
    "\n",
    "* UK and Spain being the most notable of ones too.\n",
    "\n",
    "> How many of you are surprised to see high mortality rates from well developed countries?"
   ]
  },
  {
   "cell_type": "code",
   "execution_count": null,
   "metadata": {
    "_kg_hide-input": true
   },
   "outputs": [],
   "source": [
    "print(\"Countries with Lowest Mortality Rates\")\n",
    "temp = flg[flg['confirmed']>100]\n",
    "temp = temp.sort_values('mortalityRate', ascending=True)[['country', 'confirmed','deaths']][:16]\n",
    "temp.sort_values('confirmed', ascending=False)[['country', 'confirmed','deaths']][:20].style.background_gradient(cmap='Greens')"
   ]
  },
  {
   "cell_type": "markdown",
   "metadata": {},
   "source": [
    "* Well that's the Czech Republic with the lowest mortality rate despite having 1100+ cases.\n",
    "\n",
    "* Israel, Finland, Thailand, Saudi, Qatar and Chile have some impressive numbers but it's worth remembering COVID-19 has an estimated mortality rate of only about 3%.\n",
    "\n",
    "* Things are still worse even if deaths are low, the only thing that matters is the number of cases. Stop the Spread!"
   ]
  },
  {
   "cell_type": "code",
   "execution_count": null,
   "metadata": {
    "_kg_hide-input": true
   },
   "outputs": [],
   "source": [
    "flg['recoveryRate'] = round((flg['recovered']/flg['confirmed'])*100, 2)\n",
    "temp = flg[flg['confirmed']>100]\n",
    "temp = temp.sort_values('recoveryRate', ascending=False)\n",
    "\n",
    "fig = px.bar(temp.sort_values(by=\"recoveryRate\", ascending=False)[:10][::-1],\n",
    "             x = 'recoveryRate', y = 'country', \n",
    "             title='Recoveries per 100 Confirmed Cases', text='recoveryRate', height=800, orientation='h',\n",
    "             color_discrete_sequence=['#2ca02c']\n",
    "            )\n",
    "fig.show()"
   ]
  },
  {
   "cell_type": "markdown",
   "metadata": {},
   "source": [
    "* China can recover an estimated 88 out of every 100 that get affected. That's great and the numbers seem to increase for them everyday.\n",
    "\n",
    "* Surprised to see Ships here by the way. As pointed out by [Stanwar](https://www.kaggle.com/stanwar) in the comments down below - Diamond Princess Ship outbreak was a while ago now which may explain the relatively high recovery rate.\n",
    "\n",
    "* Bahrain as we can see are doing really well in terms of recovering.\n",
    "\n",
    "* Italy, Spain, US, France, UK and Germany... Where are they? Is that why they are in trouble now?"
   ]
  },
  {
   "cell_type": "code",
   "execution_count": null,
   "metadata": {
    "_kg_hide-input": true
   },
   "outputs": [],
   "source": [
    "print(\"Countries with Worst Recovery Rates\")\n",
    "temp = flg[flg['confirmed']>100]\n",
    "temp = temp.sort_values('recoveryRate', ascending=True)[['country', 'confirmed','recovered']][:20]\n",
    "temp.sort_values('confirmed', ascending=False)[['country', 'confirmed','recovered']][:20].style.background_gradient(cmap='Reds')"
   ]
  },
  {
   "cell_type": "markdown",
   "metadata": {},
   "source": [
    "United States with 0 recoveries despite having 33k+ confirmed cases is staggering. What on Earth is that stat by the way for one of the most developed countries in the world. "
   ]
  },
  {
   "cell_type": "markdown",
   "metadata": {},
   "source": [
    "## How did it happen? "
   ]
  },
  {
   "cell_type": "markdown",
   "metadata": {},
   "source": [
    "### 1. Worldwide Analysis"
   ]
  },
  {
   "cell_type": "code",
   "execution_count": null,
   "metadata": {
    "_kg_hide-input": true
   },
   "outputs": [],
   "source": [
    "formated_gdf = data.groupby(['date', 'country'])['confirmed', 'deaths'].max()\n",
    "formated_gdf = formated_gdf.reset_index()\n",
    "formated_gdf['date'] = pd.to_datetime(formated_gdf['date'])\n",
    "formated_gdf['date'] = formated_gdf['date'].dt.strftime('%m/%d/%Y')\n",
    "formated_gdf['size'] = formated_gdf['confirmed'].pow(0.3)\n",
    "\n",
    "fig = px.scatter_geo(formated_gdf, locations=\"country\", locationmode='country names', \n",
    "                     color=\"confirmed\", size='size', hover_name=\"country\", \n",
    "                     range_color= [0, 1500], \n",
    "                     projection=\"natural earth\", animation_frame=\"date\", \n",
    "                     title='COVID-19: Spread Over Time', color_continuous_scale=\"portland\")\n",
    "# fig.update(layout_coloraxis_showscale=False)\n",
    "fig.show()"
   ]
  },
  {
   "cell_type": "markdown",
   "metadata": {},
   "source": [
    "* At the earliest point (from the data available) the disease seems to be only around China and its neighboring countries.\n",
    "\n",
    "* However it quickly spread off to Europe, Autralia and even the US which is very interesting. \n",
    "\n",
    "* Things seem to be in fairly good light even in mid February for European countries.\n",
    "\n",
    "* West Asia especially Iran and Iraq begins to catch fire at the end of February along with Italy showing signs of the dread to come. South Korea and China peaking at the moment.\n",
    "\n",
    "* By March 5 look at Europe. They could've have locked down right at that moment. \n",
    "\n",
    "* The disease has taken away Africa and Americas too by early March with alarm bells ringing loudly for the US with just over 500 cases.\n",
    "\n",
    "* Needless to say how it ended.\n",
    "\n",
    "* According to the data so far, USA, UK, Spain, Italy, Germany, France and the UK are in deep trouble. Next few days are crucial for how the disease develops around the world.\n",
    "\n"
   ]
  },
  {
   "cell_type": "code",
   "execution_count": null,
   "metadata": {
    "_kg_hide-input": true
   },
   "outputs": [],
   "source": [
    "formated_gdf = data.groupby(['date', 'country'])['confirmed', 'deaths'].max()\n",
    "formated_gdf = formated_gdf.reset_index()\n",
    "formated_gdf['date'] = pd.to_datetime(formated_gdf['date'])\n",
    "formated_gdf['date'] = formated_gdf['date'].dt.strftime('%m/%d/%Y')\n",
    "formated_gdf['size'] = formated_gdf['deaths'].pow(0.3)\n",
    "\n",
    "fig = px.scatter_geo(formated_gdf, locations=\"country\", locationmode='country names', \n",
    "                     color=\"deaths\", size='size', hover_name=\"country\", \n",
    "                     range_color= [0, 100], \n",
    "                     projection=\"natural earth\", animation_frame=\"date\", \n",
    "                     title='COVID-19: Deaths Over Time', color_continuous_scale=\"peach\")\n",
    "# fig.update(layout_coloraxis_showscale=False)\n",
    "fig.show()"
   ]
  },
  {
   "cell_type": "markdown",
   "metadata": {},
   "source": [
    "The most interesting thing here is China's relative steadiness since March and Europe's severe spreads.  "
   ]
  },
  {
   "cell_type": "code",
   "execution_count": null,
   "metadata": {
    "_kg_hide-input": true
   },
   "outputs": [],
   "source": [
    "formated_gdf = cleaned_data.groupby(['date', 'country'])['confirmed', 'deaths', 'active', 'recovered'].max()\n",
    "formated_gdf = formated_gdf.reset_index()\n",
    "formated_gdf['date'] = pd.to_datetime(formated_gdf['date'])\n",
    "formated_gdf['date'] = formated_gdf['date'].dt.strftime('%m/%d/%Y')\n",
    "formated_gdf['size'] = formated_gdf['active'].pow(0.3)\n",
    "\n",
    "fig = px.scatter_geo(formated_gdf, locations=\"country\", locationmode='country names', \n",
    "                     color=\"active\", size='size', hover_name=\"country\", \n",
    "                     range_color= [0, 1000], \n",
    "                     projection=\"natural earth\", animation_frame=\"date\", \n",
    "                     title='COVID-19: Active Cases Over Time', color_continuous_scale=\"portland\")\n",
    "fig.update(layout_coloraxis_showscale=False)\n",
    "fig.show()"
   ]
  },
  {
   "cell_type": "markdown",
   "metadata": {},
   "source": [
    "Look at China's significant decrease and Europe's deadly increase at the same time."
   ]
  },
  {
   "cell_type": "code",
   "execution_count": null,
   "metadata": {
    "_kg_hide-input": true
   },
   "outputs": [],
   "source": [
    "formated_gdf = cleaned_data.groupby(['date', 'country'])['confirmed', 'deaths', 'active', 'recovered'].max()\n",
    "formated_gdf = formated_gdf.reset_index()\n",
    "formated_gdf['date'] = pd.to_datetime(formated_gdf['date'])\n",
    "formated_gdf['date'] = formated_gdf['date'].dt.strftime('%m/%d/%Y')\n",
    "formated_gdf['size'] = formated_gdf['recovered'].pow(0.3)\n",
    "\n",
    "fig = px.scatter_geo(formated_gdf, locations=\"country\", locationmode='country names', \n",
    "                     color=\"recovered\", size='size', hover_name=\"country\", \n",
    "                     range_color= [0, 100], \n",
    "                     projection=\"natural earth\", animation_frame=\"date\", \n",
    "                     title='COVID-19: Recoveries Over Time', color_continuous_scale=\"greens\")\n",
    "fig.update(layout_coloraxis_showscale=False)\n",
    "fig.show()"
   ]
  },
  {
   "cell_type": "markdown",
   "metadata": {},
   "source": [
    "China's recoveries so far are excellent. Can Italy, Spain and Iran follow? "
   ]
  },
  {
   "cell_type": "markdown",
   "metadata": {},
   "source": [
    "### 2. What happened in Europe"
   ]
  },
  {
   "cell_type": "code",
   "execution_count": null,
   "metadata": {
    "_kg_hide-input": true
   },
   "outputs": [],
   "source": [
    "formated_gdf = cleaned_data.groupby(['date', 'country'])['confirmed', 'deaths', 'active', 'recovered'].max()\n",
    "formated_gdf = formated_gdf.reset_index()\n",
    "formated_gdf['date'] = pd.to_datetime(formated_gdf['date'])\n",
    "formated_gdf['date'] = formated_gdf['date'].dt.strftime('%m/%d/%Y')\n",
    "formated_gdf['size'] = formated_gdf['confirmed'].pow(0.3) * 5\n",
    "\n",
    "fig = px.scatter_geo(formated_gdf, locations=\"country\", locationmode='country names', \n",
    "                     color=\"confirmed\", size='size', hover_name=\"country\", \n",
    "                     range_color= [0, 5000], \n",
    "                     projection=\"natural earth\", animation_frame=\"date\", scope=\"europe\",\n",
    "                     title='COVID-19: Spread Over Time in EUROPE', color_continuous_scale=\"portland\", height=800)\n",
    "# fig.update(layout_coloraxis_showscale=False)\n",
    "fig.show()"
   ]
  },
  {
   "cell_type": "markdown",
   "metadata": {},
   "source": [
    "* What a suprise it looks to be France who are first affected by the virus.\n",
    "\n",
    "* Nothing bad has happened in Europe as long as mid February. End of February, Italy inflates considerably. \n",
    "\n",
    "* Entire West Europe overshadowed by the virus by the mid of March. "
   ]
  },
  {
   "cell_type": "code",
   "execution_count": null,
   "metadata": {
    "_kg_hide-input": true
   },
   "outputs": [],
   "source": [
    "formated_gdf['date'] = pd.to_datetime(formated_gdf['date'])\n",
    "formated_gdf['date'] = formated_gdf['date'].dt.strftime('%m/%d/%Y')\n",
    "formated_gdf['size'] = formated_gdf['deaths'].pow(0.3)\n",
    "\n",
    "fig = px.scatter_geo(formated_gdf, locations=\"country\", locationmode='country names', \n",
    "                     color=\"deaths\", size='size', hover_name=\"country\", \n",
    "                     range_color= [0, 500], \n",
    "                     projection=\"natural earth\", animation_frame=\"date\", scope=\"europe\",\n",
    "                     title='COVID-19: Deaths Over Time in EUROPE', color_continuous_scale=\"peach\", height=800)\n",
    "# fig.update(layout_coloraxis_showscale=False)\n",
    "fig.show()"
   ]
  },
  {
   "cell_type": "markdown",
   "metadata": {},
   "source": [
    "* First death again in France by Feb 17. Italy follows suite.\n",
    "\n",
    "* The rest is history!"
   ]
  },
  {
   "cell_type": "code",
   "execution_count": null,
   "metadata": {
    "_kg_hide-input": true
   },
   "outputs": [],
   "source": [
    "formated_gdf['date'] = pd.to_datetime(formated_gdf['date'])\n",
    "formated_gdf['date'] = formated_gdf['date'].dt.strftime('%m/%d/%Y')\n",
    "formated_gdf['size'] = formated_gdf['active'].pow(0.3) * 3.5\n",
    "\n",
    "fig = px.scatter_geo(formated_gdf, locations=\"country\", locationmode='country names', \n",
    "                     color=\"active\", size='size', hover_name=\"country\", \n",
    "                     range_color= [0, 3000], \n",
    "                     projection=\"natural earth\", animation_frame=\"date\", scope=\"europe\",\n",
    "                     title='COVID-19: Active Cases Over Time in EUROPE', color_continuous_scale=\"portland\", height=800)\n",
    "# fig.update(layout_coloraxis_showscale=False)\n",
    "fig.show()"
   ]
  },
  {
   "cell_type": "markdown",
   "metadata": {},
   "source": [
    "* At one point in Feb most of the other countries seem to have no active cases except Italy.\n",
    "* But then there is no shortage of active cases in Italy and the lack of locking down public events causing the spread to climb so high and even affecting the rest of the Europe possibly."
   ]
  },
  {
   "cell_type": "code",
   "execution_count": null,
   "metadata": {
    "_kg_hide-input": true
   },
   "outputs": [],
   "source": [
    "formated_gdf['date'] = pd.to_datetime(formated_gdf['date'])\n",
    "formated_gdf['date'] = formated_gdf['date'].dt.strftime('%m/%d/%Y')\n",
    "formated_gdf['size'] = formated_gdf['recovered'].pow(0.3) * 3.5\n",
    "\n",
    "fig = px.scatter_geo(formated_gdf, locations=\"country\", locationmode='country names', \n",
    "                     color=\"recovered\", size='size', hover_name=\"country\", \n",
    "                     range_color= [0, 100], \n",
    "                     projection=\"natural earth\", animation_frame=\"date\", scope=\"europe\",\n",
    "                     title='COVID-19: Deaths Over Time in EUROPE', color_continuous_scale=\"greens\", height=800)\n",
    "# fig.update(layout_coloraxis_showscale=False)\n",
    "fig.show()"
   ]
  },
  {
   "cell_type": "markdown",
   "metadata": {},
   "source": [
    "## Conclusion\n",
    "\n",
    "It is better to go for not spreading than to have someone recovered as we know how hard that is for new diseases so I think the message is clear for these countries. Social Distancing!!!\n",
    "\n",
    "Now it matters more than ever!\n",
    "\n",
    "I hope everything goes well in the next few days. Keep the virus at bay. Wash your hands, stay home, eat healthy and stay healthy.\n",
    "\n",
    "**20-03-2020 | Happy International Happiness Day!** \n",
    "\n",
    "May things change for good very soon.\n",
    "\n",
    "I really hope this notebook was useful. **Please give this notebook an upvote if you liked.** Thanks for reading all the way. \n",
    "\n",
    "<br>\n",
    "\n",
    "> #### **Written By:** \n",
    "[Abhinand Balachandran](www.kaggle.com/abhinand05)"
   ]
  }
 ],
 "metadata": {
  "kernelspec": {
   "display_name": "Python [conda env:covid] *",
   "language": "python",
   "name": "conda-env-covid-py"
  },
  "language_info": {
   "codemirror_mode": {
    "name": "ipython",
    "version": 3
   },
   "file_extension": ".py",
   "mimetype": "text/x-python",
   "name": "python",
   "nbconvert_exporter": "python",
   "pygments_lexer": "ipython3",
   "version": "3.6.10"
  }
 },
 "nbformat": 4,
 "nbformat_minor": 4
}
