{
 "cells": [
  {
   "cell_type": "code",
   "execution_count": 106,
   "metadata": {},
   "outputs": [],
   "source": [
    "import numpy as np\n",
    "import pandas as pd\n",
    "\n",
    "import plotly.graph_objects as go\n",
    "import plotly.express as px\n",
    "import plotly.io as pio\n",
    "pio.templates.default = \"plotly_dark\"\n",
    "from plotly.subplots import make_subplots\n",
    "import dash\n",
    "import dash_core_components as dcc\n",
    "import dash_html_components as html\n",
    "from pathlib import Path\n",
    "data_dir = Path('D:\\PycharmProjects\\Covid19\\data_dir')\n",
    "\n",
    "import os\n",
    "os.listdir(data_dir)\n",
    "app =dash.Dash()"
   ]
  },
  {
   "cell_type": "code",
   "execution_count": 107,
   "metadata": {},
   "outputs": [
    {
     "data": {
      "text/html": [
       "<div>\n",
       "<style scoped>\n",
       "    .dataframe tbody tr th:only-of-type {\n",
       "        vertical-align: middle;\n",
       "    }\n",
       "\n",
       "    .dataframe tbody tr th {\n",
       "        vertical-align: top;\n",
       "    }\n",
       "\n",
       "    .dataframe thead th {\n",
       "        text-align: right;\n",
       "    }\n",
       "</style>\n",
       "<table border=\"1\" class=\"dataframe\">\n",
       "  <thead>\n",
       "    <tr style=\"text-align: right;\">\n",
       "      <th></th>\n",
       "      <th>Province/State</th>\n",
       "      <th>Country/Region</th>\n",
       "      <th>Lat</th>\n",
       "      <th>Long</th>\n",
       "      <th>Date</th>\n",
       "      <th>Confirmed</th>\n",
       "      <th>Deaths</th>\n",
       "      <th>Recovered</th>\n",
       "    </tr>\n",
       "  </thead>\n",
       "  <tbody>\n",
       "    <tr>\n",
       "      <th>0</th>\n",
       "      <td>NaN</td>\n",
       "      <td>Afghanistan</td>\n",
       "      <td>33.0000</td>\n",
       "      <td>65.0000</td>\n",
       "      <td>2020-01-22</td>\n",
       "      <td>0</td>\n",
       "      <td>0</td>\n",
       "      <td>0</td>\n",
       "    </tr>\n",
       "    <tr>\n",
       "      <th>1</th>\n",
       "      <td>NaN</td>\n",
       "      <td>Albania</td>\n",
       "      <td>41.1533</td>\n",
       "      <td>20.1683</td>\n",
       "      <td>2020-01-22</td>\n",
       "      <td>0</td>\n",
       "      <td>0</td>\n",
       "      <td>0</td>\n",
       "    </tr>\n",
       "    <tr>\n",
       "      <th>2</th>\n",
       "      <td>NaN</td>\n",
       "      <td>Algeria</td>\n",
       "      <td>28.0339</td>\n",
       "      <td>1.6596</td>\n",
       "      <td>2020-01-22</td>\n",
       "      <td>0</td>\n",
       "      <td>0</td>\n",
       "      <td>0</td>\n",
       "    </tr>\n",
       "    <tr>\n",
       "      <th>3</th>\n",
       "      <td>NaN</td>\n",
       "      <td>Andorra</td>\n",
       "      <td>42.5063</td>\n",
       "      <td>1.5218</td>\n",
       "      <td>2020-01-22</td>\n",
       "      <td>0</td>\n",
       "      <td>0</td>\n",
       "      <td>0</td>\n",
       "    </tr>\n",
       "    <tr>\n",
       "      <th>4</th>\n",
       "      <td>NaN</td>\n",
       "      <td>Angola</td>\n",
       "      <td>-11.2027</td>\n",
       "      <td>17.8739</td>\n",
       "      <td>2020-01-22</td>\n",
       "      <td>0</td>\n",
       "      <td>0</td>\n",
       "      <td>0</td>\n",
       "    </tr>\n",
       "  </tbody>\n",
       "</table>\n",
       "</div>"
      ],
      "text/plain": [
       "  Province/State Country/Region      Lat     Long       Date  Confirmed  \\\n",
       "0            NaN    Afghanistan  33.0000  65.0000 2020-01-22          0   \n",
       "1            NaN        Albania  41.1533  20.1683 2020-01-22          0   \n",
       "2            NaN        Algeria  28.0339   1.6596 2020-01-22          0   \n",
       "3            NaN        Andorra  42.5063   1.5218 2020-01-22          0   \n",
       "4            NaN         Angola -11.2027  17.8739 2020-01-22          0   \n",
       "\n",
       "   Deaths  Recovered  \n",
       "0       0          0  \n",
       "1       0          0  \n",
       "2       0          0  \n",
       "3       0          0  \n",
       "4       0          0  "
      ]
     },
     "execution_count": 107,
     "metadata": {},
     "output_type": "execute_result"
    }
   ],
   "source": [
    "data = pd.read_csv(data_dir/'covid_19_clean_complete.csv', parse_dates=['Date'],engine='python')\n",
    "data.head()"
   ]
  },
  {
   "cell_type": "code",
   "execution_count": 108,
   "metadata": {},
   "outputs": [],
   "source": [
    "data.rename(columns={'Date': 'date', \n",
    "                     'Province/State':'state',\n",
    "                     'Country/Region':'country',\n",
    "                     'Confirmed': 'confirmed',\n",
    "                     'Deaths':'deaths',\n",
    "                     'Recovered':'recovered'\n",
    "                    }, inplace=True)\n",
    "\n",
    "\n",
    "cases = ['confirmed', 'deaths', 'recovered', 'active']\n",
    "\n",
    "# Active Case = confirmed - deaths - recovered\n",
    "data['active'] = data['confirmed'] - data['deaths'] - data['recovered']\n",
    "\n",
    "# replacing Mainland china with just China\n",
    "data['country'] = data['country'].replace('Mainland China', 'China')\n",
    "\n",
    "# filling missing values \n",
    "data[['state']] = data[['state']].fillna('')\n",
    "data[cases] = data[cases].fillna(0)\n",
    "data.rename(columns={'Date':'date'}, inplace=True)"
   ]
  },
  {
   "cell_type": "code",
   "execution_count": 109,
   "metadata": {},
   "outputs": [],
   "source": [
    "def world_plot(type,color):\n",
    "    grouped = data.groupby('date')['date', 'confirmed', 'deaths','active' , 'recovered'].sum().reset_index()\n",
    "\n",
    "    fig = go.Figure()\n",
    "\n",
    "    if(type == \"confirmed + active\"):\n",
    "        fig.add_trace(go.Scatter(x = grouped[\"date\"],y = grouped['confirmed'],\n",
    "                                 mode = 'lines+markers',line=dict(color=\"#003EA9\"),name=\"Confimed Cases\"))\n",
    "        \n",
    "        \n",
    "        fig.add_trace(go.Scatter(x = grouped[\"date\"],y = grouped['active'],\n",
    "                                 mode = 'lines+markers',line=dict(color=\"#44AFFE\"),name=\"Active Cases\"))\n",
    "        \n",
    "        \n",
    "        fig.update_layout(title=\"Worldwide \" + type + \" Cases\",\n",
    "                     xaxis_title = \"Date\",\n",
    "                      yaxis_title = type + \" Cases\",\n",
    "                      font = dict(color = \"#7f7f7f\")\n",
    "                     )\n",
    "    else:\n",
    "        fig.add_trace(go.Scatter(x = grouped[\"date\"],y = grouped[type],\n",
    "                                 mode = 'lines+markers',line=dict(color=color),name=type + \" Cases\"))\n",
    "        fig.update_layout(title=\"Worldwide \" + type + \" Cases\",\n",
    "                         xaxis_title = \"Date\",\n",
    "                          yaxis_title = type + \" Cases\",\n",
    "                          font = dict(color = \"#7f7f7f\")\n",
    "                         )\n",
    "    return fig"
   ]
  },
  {
   "cell_type": "code",
   "execution_count": 110,
   "metadata": {},
   "outputs": [
    {
     "name": "stderr",
     "output_type": "stream",
     "text": [
      "D:\\Softwares\\Anaconda\\envs\\covid\\lib\\site-packages\\ipykernel_launcher.py:5: FutureWarning:\n",
      "\n",
      "Indexing with multiple keys (implicitly converted to a tuple of keys) will be deprecated, use a list instead.\n",
      "\n"
     ]
    }
   ],
   "source": [
    "data['state'] = data['state'].fillna('')\n",
    "temp = data[[col for col in data.columns if col != 'state']]\n",
    "\n",
    "latest = temp[temp['date'] == max(temp['date'])].reset_index()\n",
    "latest_grouped = latest.groupby('country')['confirmed', 'deaths','active','recovered'].sum().reset_index()"
   ]
  },
  {
   "cell_type": "code",
   "execution_count": 111,
   "metadata": {},
   "outputs": [],
   "source": [
    "def world_heatmap(type,color,scale):\n",
    "    avg = latest_grouped[type].sum()/latest_grouped[type].count()\n",
    "    max = latest_grouped[type].max()\n",
    "    print(max)\n",
    "    fig = px.choropleth(latest_grouped, locations=\"country\", \n",
    "                        locationmode='country names', color=type, \n",
    "                        hover_name=\"country\", range_color=[0,max*scale],\n",
    "                        color_continuous_midpoint = avg,\n",
    "                        color_continuous_scale=color, \n",
    "                        title=\"Countries with \"+type +\" Cases\",height=1000)\n",
    "    return fig\n",
    "# fig.update(layout_coloraxis_showscale=False)"
   ]
  },
  {
   "cell_type": "code",
   "execution_count": 124,
   "metadata": {},
   "outputs": [],
   "source": [
    "def world_animation(type,color):\n",
    "    formated_gdf = data.groupby(['date', 'country'])['confirmed', 'deaths', 'active', 'recovered'].max()\n",
    "    formated_gdf = formated_gdf.reset_index()\n",
    "    formated_gdf['date'] = pd.to_datetime(formated_gdf['date'])\n",
    "    formated_gdf['date'] = formated_gdf['date'].dt.strftime('%m/%d/%Y')\n",
    "    formated_gdf['size'] = formated_gdf['recovered'].pow(0.3)\n",
    "    \n",
    "    fig = px.scatter_geo(formated_gdf, locations=\"country\", locationmode='country names', \n",
    "                     color=type, size='size', hover_name=\"country\", \n",
    "                     range_color= [0, 100], \n",
    "                     projection=\"natural earth\", animation_frame=\"date\", \n",
    "                     title='COVID-19: '+type +' Over Time', color_continuous_scale=color)\n",
    "#     fig.update(layout_coloraxis_showscale=False)\n",
    "    return fig\n"
   ]
  },
  {
   "cell_type": "code",
   "execution_count": 125,
   "metadata": {},
   "outputs": [
    {
     "name": "stdout",
     "output_type": "stream",
     "text": [
      "83836\n",
      "81946\n",
      "8215\n",
      "74181\n"
     ]
    }
   ],
   "source": [
    "color_confirmed =['white','#CCD4DF','#AEBFD5','#96D1D3','#7898C0','#6287B6','#4B75A8','#3A679F',\n",
    "                           '#2B5697','#0A3B78']\n",
    "color_active = ['white','#EAD5F0','#DEBBE9','#CF9BDF','#C884DE','#B863D2','#AE4ACD','#9E31C0','#9621BB','#8A07B3']\n",
    "\n",
    "color_death = ['white','#FEE2DD','#FED0C7','#FEB5A8','#FFA190','#FE9683','#FE8670','#FB745C',\n",
    "                           '#F3674E','#E95A40']\n",
    "\n",
    "color_recovered = ['white','#E6F6B7','#E9FCAA','#E5FB9F','#E3FC91','#DBFE6F','#E9FE64','#D2FD50','#D3FF47','#CCFB39',\n",
    "                   '#BDEA16']\n",
    "world_confirmed_heatmap = world_heatmap('confirmed',color_confirmed,0.2)\n",
    "world_active_heatmap = world_heatmap('active',color_active,scale=0.2)\n",
    "world_deaths_heatmap = world_heatmap('deaths',color_death,scale=0.2)\n",
    "world_recovered_heatmap = world_heatmap('recovered',color_recovered,0.2)"
   ]
  },
  {
   "cell_type": "code",
   "execution_count": 126,
   "metadata": {},
   "outputs": [
    {
     "name": "stderr",
     "output_type": "stream",
     "text": [
      "D:\\Softwares\\Anaconda\\envs\\covid\\lib\\site-packages\\ipykernel_launcher.py:2: FutureWarning:\n",
      "\n",
      "Indexing with multiple keys (implicitly converted to a tuple of keys) will be deprecated, use a list instead.\n",
      "\n"
     ]
    }
   ],
   "source": [
    "fig_con_act = world_plot('confirmed + active',\"#44AFFE\")\n",
    "\n",
    "fig_death = world_plot('deaths','red')\n",
    "fig_recovered = world_plot('recovered','green')"
   ]
  },
  {
   "cell_type": "code",
   "execution_count": 127,
   "metadata": {},
   "outputs": [
    {
     "name": "stderr",
     "output_type": "stream",
     "text": [
      "D:\\Softwares\\Anaconda\\envs\\covid\\lib\\site-packages\\ipykernel_launcher.py:2: FutureWarning:\n",
      "\n",
      "Indexing with multiple keys (implicitly converted to a tuple of keys) will be deprecated, use a list instead.\n",
      "\n"
     ]
    }
   ],
   "source": [
    "world_animation_confirm = world_animation('confirmed',color_confirmed)\n",
    "world_animation_deaths= world_animation('deaths',color_death)\n",
    "world_animation_active = world_animation('active',color_active)\n",
    "world_animation_recovered = world_animation('recovered',color_recovered)"
   ]
  },
  {
   "cell_type": "code",
   "execution_count": null,
   "metadata": {},
   "outputs": [],
   "source": []
  },
  {
   "cell_type": "code",
   "execution_count": 115,
   "metadata": {},
   "outputs": [
    {
     "name": "stdout",
     "output_type": "stream",
     "text": [
      "Running on http://10.145.142.110:8080/\n",
      "Running on http://10.145.142.110:8080/\n",
      "Running on http://10.145.142.110:8080/\n",
      "Running on http://10.145.142.110:8080/\n",
      "Running on http://10.145.142.110:8080/\n",
      "Debugger PIN: 173-559-948\n",
      "Debugger PIN: 173-559-948\n",
      "Debugger PIN: 173-559-948\n",
      "Debugger PIN: 173-559-948\n",
      "Debugger PIN: 173-559-948\n",
      " * Serving Flask app \"__main__\" (lazy loading)\n",
      " * Environment: production\n",
      "   WARNING: This is a development server. Do not use it in a production deployment.\n",
      "   Use a production WSGI server instead.\n",
      " * Debug mode: on\n"
     ]
    }
   ],
   "source": [
    "app.layout = html.Div([\n",
    "     html.H1(\"Confirm Cases Heat Map\"),\n",
    "    html.Div(\n",
    "    dcc.Graph(id = \"Confirmed_heatmap\",figure = world_confirmed_heatmap)\n",
    "    ),\n",
    "    \n",
    "     html.H1(\" Active Cases Heat Map\"),\n",
    "    html.Div(\n",
    "    dcc.Graph(id = \"active_heatmap\",figure = world_active_heatmap)\n",
    "    ),\n",
    "    \n",
    "     html.H1(\"Death Cases Heat Map\"),\n",
    "    html.Div(\n",
    "    dcc.Graph(id = \"death_heatmap\",figure = world_deaths_heatmap)\n",
    "    ),\n",
    "    \n",
    "     html.H1(\"Recovered Cases heat Map\"),\n",
    "    html.Div(\n",
    "    dcc.Graph(id = \"recovered_heatmap\",figure = world_recovered_heatmap)\n",
    "    ),\n",
    "    \n",
    "    html.H1(\"Confirm and Active Cases\"),\n",
    "    html.Div(\n",
    "    dcc.Graph(id = \"Confirmed\",figure = fig_con_act)\n",
    "    ),\n",
    "    \n",
    "    html.H1(\"Worldwide Deaths\"),\n",
    "    html.Div(\n",
    "        dcc.Graph(id=\"deaths\", figure=fig_death),\n",
    "    ),\n",
    "    \n",
    "    html.H1(\"Worldwide Recovered\"),\n",
    "        html.Div(\n",
    "            dcc.Graph(id=\"recovered\", figure=fig_recovered),\n",
    "        )\n",
    "])\n",
    "if __name__ == \"__main__\":\n",
    "    app.run_server(debug=True,port=8080,host=\"10.145.142.110\",use_reloader = False)\n"
   ]
  },
  {
   "cell_type": "code",
   "execution_count": null,
   "metadata": {},
   "outputs": [],
   "source": []
  }
 ],
 "metadata": {
  "kernelspec": {
   "display_name": "Python [conda env:covid] *",
   "language": "python",
   "name": "conda-env-covid-py"
  },
  "language_info": {
   "codemirror_mode": {
    "name": "ipython",
    "version": 3
   },
   "file_extension": ".py",
   "mimetype": "text/x-python",
   "name": "python",
   "nbconvert_exporter": "python",
   "pygments_lexer": "ipython3",
   "version": "3.6.10"
  }
 },
 "nbformat": 4,
 "nbformat_minor": 4
}
